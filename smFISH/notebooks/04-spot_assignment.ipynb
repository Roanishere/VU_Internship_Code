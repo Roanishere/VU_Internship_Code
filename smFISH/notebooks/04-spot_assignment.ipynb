{
 "cells": [
  {
   "cell_type": "markdown",
   "id": "4785d152",
   "metadata": {},
   "source": [
    "# <span style=\"color:darkblue\">04-Spot_Assignment</span>"
   ]
  },
  {
   "cell_type": "markdown",
   "id": "25b65415",
   "metadata": {},
   "source": [
    "In this notebook we will assign the detected RNAs and Txs to each uniquely labeleld cell in our Cellpose-produced cell and nuclear masks."
   ]
  },
  {
   "cell_type": "markdown",
   "id": "366de7b5",
   "metadata": {},
   "source": [
    "## 4.0 - Load libraries"
   ]
  },
  {
   "cell_type": "code",
   "execution_count": 28,
   "id": "ac5d58d9",
   "metadata": {},
   "outputs": [
    {
     "data": {
      "text/plain": [
       "'G:\\\\Code\\\\smFISH\\\\notebooks'"
      ]
     },
     "execution_count": 28,
     "metadata": {},
     "output_type": "execute_result"
    }
   ],
   "source": [
    "pwd"
   ]
  },
  {
   "cell_type": "code",
   "execution_count": 1,
   "id": "a894b32a",
   "metadata": {},
   "outputs": [
    {
     "name": "stderr",
     "output_type": "stream",
     "text": [
      "C:\\Users\\roana\\anaconda3\\Lib\\site-packages\\paramiko\\transport.py:219: CryptographyDeprecationWarning: Blowfish has been deprecated\n",
      "  \"class\": algorithms.Blowfish,\n"
     ]
    }
   ],
   "source": [
    "from skimage import io\n",
    "import numpy as np\n",
    "import napari\n",
    "import pandas as pd\n",
    "from glob import glob\n",
    "from skimage.measure import regionprops_table, regionprops\n",
    "\n",
    "import sys\n",
    "sys.path.append('../')\n",
    "\n",
    "from src.misc import group_experiments, load_data"
   ]
  },
  {
   "cell_type": "markdown",
   "id": "aade6652",
   "metadata": {},
   "source": [
    "***"
   ]
  },
  {
   "cell_type": "markdown",
   "id": "22da417f",
   "metadata": {},
   "source": [
    "## 4.1 - Load spot & cell/nuclei mask data and check image"
   ]
  },
  {
   "cell_type": "code",
   "execution_count": 3,
   "id": "4f449988",
   "metadata": {},
   "outputs": [
    {
     "ename": "FileNotFoundError",
     "evalue": "[Errno 2] No such file or directory: 'F:\\\\Code\\\\smFISH\\\\data\\\\Chip_A_spider_1_CLB2_HWP1_24HR_RESULTSDONE\\\\stk_0003_CET111_EFG1Q670_HWP1CAL610_Spider37_01_CY5, CY3.5 NAR, DAPI.tif'",
     "output_type": "error",
     "traceback": [
      "\u001b[1;31m---------------------------------------------------------------------------\u001b[0m",
      "\u001b[1;31mFileNotFoundError\u001b[0m                         Traceback (most recent call last)",
      "\u001b[1;32m~\\AppData\\Local\\Temp\\ipykernel_15000\\4132142117.py\u001b[0m in \u001b[0;36m?\u001b[1;34m()\u001b[0m\n\u001b[0;32m      1\u001b[0m \u001b[1;31m# load image data\u001b[0m\u001b[1;33m\u001b[0m\u001b[1;33m\u001b[0m\u001b[0m\n\u001b[0;32m      2\u001b[0m \u001b[0mRNAs\u001b[0m \u001b[1;33m=\u001b[0m \u001b[0mio\u001b[0m\u001b[1;33m.\u001b[0m\u001b[0mimread\u001b[0m\u001b[1;33m(\u001b[0m\u001b[1;34m'../data/Chip_A_spider_1_CLB2_HWP1_24HR_RESULTSDONE/CET111_HWP1Q610_Spider_CY3_01.tif'\u001b[0m\u001b[1;33m)\u001b[0m\u001b[1;33m\u001b[0m\u001b[1;33m\u001b[0m\u001b[0m\n\u001b[1;32m----> 3\u001b[1;33m \u001b[0mDAPI\u001b[0m \u001b[1;33m=\u001b[0m \u001b[0mio\u001b[0m\u001b[1;33m.\u001b[0m\u001b[0mimread\u001b[0m\u001b[1;33m(\u001b[0m\u001b[1;34m'../data/Chip_A_spider_1_CLB2_HWP1_24HR_RESULTSDONE/stk_0003_CET111_EFG1Q670_HWP1CAL610_Spider37_01_CY5, CY3.5 NAR, DAPI.tif'\u001b[0m\u001b[1;33m)\u001b[0m\u001b[1;33m\u001b[0m\u001b[1;33m\u001b[0m\u001b[0m\n\u001b[0m\u001b[0;32m      4\u001b[0m \u001b[0mDIC\u001b[0m \u001b[1;33m=\u001b[0m \u001b[0mio\u001b[0m\u001b[1;33m.\u001b[0m\u001b[0mimread\u001b[0m\u001b[1;33m(\u001b[0m\u001b[1;34m'../data/Chip_A_spider_1_CLB2_HWP1_24HR_RESULTSDONE/CET111_EFG1Q670_HWP1CAL610_Spider37_01_BF.tif'\u001b[0m\u001b[1;33m)\u001b[0m\u001b[1;33m\u001b[0m\u001b[1;33m\u001b[0m\u001b[0m\n\u001b[0;32m      5\u001b[0m \u001b[0mmask\u001b[0m \u001b[1;33m=\u001b[0m \u001b[0mio\u001b[0m\u001b[1;33m.\u001b[0m\u001b[0mimread\u001b[0m\u001b[1;33m(\u001b[0m\u001b[1;34m'../data/Chip_A_spider_1_CLB2_HWP1_24HR_RESULTSDONE/Masks/CET111_HWP1Q610_Spider_DIC_01_seg.tif'\u001b[0m\u001b[1;33m)\u001b[0m\u001b[1;33m\u001b[0m\u001b[1;33m\u001b[0m\u001b[0m\n\u001b[0;32m      6\u001b[0m \u001b[0mnuclear_mask\u001b[0m \u001b[1;33m=\u001b[0m \u001b[0mio\u001b[0m\u001b[1;33m.\u001b[0m\u001b[0mimread\u001b[0m\u001b[1;33m(\u001b[0m\u001b[1;34m'../data/Chip_A_spider_1_CLB2_HWP1_24HR_RESULTSDONE/Masks/MAX_CET111_HWP1Q610_Spider_DAPI_01_seg.tif'\u001b[0m\u001b[1;33m)\u001b[0m\u001b[1;33m\u001b[0m\u001b[1;33m\u001b[0m\u001b[0m\n",
      "\u001b[1;32m~\\anaconda3\\Lib\\site-packages\\skimage\\io\\_io.py\u001b[0m in \u001b[0;36m?\u001b[1;34m(fname, as_gray, plugin, **plugin_args)\u001b[0m\n\u001b[0;32m     49\u001b[0m         \u001b[1;32mif\u001b[0m \u001b[0mfname\u001b[0m\u001b[1;33m.\u001b[0m\u001b[0mlower\u001b[0m\u001b[1;33m(\u001b[0m\u001b[1;33m)\u001b[0m\u001b[1;33m.\u001b[0m\u001b[0mendswith\u001b[0m\u001b[1;33m(\u001b[0m\u001b[1;33m(\u001b[0m\u001b[1;34m'.tiff'\u001b[0m\u001b[1;33m,\u001b[0m \u001b[1;34m'.tif'\u001b[0m\u001b[1;33m)\u001b[0m\u001b[1;33m)\u001b[0m\u001b[1;33m:\u001b[0m\u001b[1;33m\u001b[0m\u001b[1;33m\u001b[0m\u001b[0m\n\u001b[0;32m     50\u001b[0m             \u001b[0mplugin\u001b[0m \u001b[1;33m=\u001b[0m \u001b[1;34m'tifffile'\u001b[0m\u001b[1;33m\u001b[0m\u001b[1;33m\u001b[0m\u001b[0m\n\u001b[0;32m     51\u001b[0m \u001b[1;33m\u001b[0m\u001b[0m\n\u001b[0;32m     52\u001b[0m     \u001b[1;32mwith\u001b[0m \u001b[0mfile_or_url_context\u001b[0m\u001b[1;33m(\u001b[0m\u001b[0mfname\u001b[0m\u001b[1;33m)\u001b[0m \u001b[1;32mas\u001b[0m \u001b[0mfname\u001b[0m\u001b[1;33m:\u001b[0m\u001b[1;33m\u001b[0m\u001b[1;33m\u001b[0m\u001b[0m\n\u001b[1;32m---> 53\u001b[1;33m         \u001b[0mimg\u001b[0m \u001b[1;33m=\u001b[0m \u001b[0mcall_plugin\u001b[0m\u001b[1;33m(\u001b[0m\u001b[1;34m'imread'\u001b[0m\u001b[1;33m,\u001b[0m \u001b[0mfname\u001b[0m\u001b[1;33m,\u001b[0m \u001b[0mplugin\u001b[0m\u001b[1;33m=\u001b[0m\u001b[0mplugin\u001b[0m\u001b[1;33m,\u001b[0m \u001b[1;33m**\u001b[0m\u001b[0mplugin_args\u001b[0m\u001b[1;33m)\u001b[0m\u001b[1;33m\u001b[0m\u001b[1;33m\u001b[0m\u001b[0m\n\u001b[0m\u001b[0;32m     54\u001b[0m \u001b[1;33m\u001b[0m\u001b[0m\n\u001b[0;32m     55\u001b[0m     \u001b[1;32mif\u001b[0m \u001b[1;32mnot\u001b[0m \u001b[0mhasattr\u001b[0m\u001b[1;33m(\u001b[0m\u001b[0mimg\u001b[0m\u001b[1;33m,\u001b[0m \u001b[1;34m'ndim'\u001b[0m\u001b[1;33m)\u001b[0m\u001b[1;33m:\u001b[0m\u001b[1;33m\u001b[0m\u001b[1;33m\u001b[0m\u001b[0m\n\u001b[0;32m     56\u001b[0m         \u001b[1;32mreturn\u001b[0m \u001b[0mimg\u001b[0m\u001b[1;33m\u001b[0m\u001b[1;33m\u001b[0m\u001b[0m\n",
      "\u001b[1;32m~\\anaconda3\\Lib\\site-packages\\skimage\\io\\manage_plugins.py\u001b[0m in \u001b[0;36m?\u001b[1;34m(kind, *args, **kwargs)\u001b[0m\n\u001b[0;32m    201\u001b[0m             \u001b[0mfunc\u001b[0m \u001b[1;33m=\u001b[0m \u001b[1;33m[\u001b[0m\u001b[0mf\u001b[0m \u001b[1;32mfor\u001b[0m \u001b[1;33m(\u001b[0m\u001b[0mp\u001b[0m\u001b[1;33m,\u001b[0m \u001b[0mf\u001b[0m\u001b[1;33m)\u001b[0m \u001b[1;32min\u001b[0m \u001b[0mplugin_funcs\u001b[0m \u001b[1;32mif\u001b[0m \u001b[0mp\u001b[0m \u001b[1;33m==\u001b[0m \u001b[0mplugin\u001b[0m\u001b[1;33m]\u001b[0m\u001b[1;33m[\u001b[0m\u001b[1;36m0\u001b[0m\u001b[1;33m]\u001b[0m\u001b[1;33m\u001b[0m\u001b[1;33m\u001b[0m\u001b[0m\n\u001b[0;32m    202\u001b[0m         \u001b[1;32mexcept\u001b[0m \u001b[0mIndexError\u001b[0m\u001b[1;33m:\u001b[0m\u001b[1;33m\u001b[0m\u001b[1;33m\u001b[0m\u001b[0m\n\u001b[0;32m    203\u001b[0m             \u001b[1;32mraise\u001b[0m \u001b[0mRuntimeError\u001b[0m\u001b[1;33m(\u001b[0m\u001b[1;34mf'Could not find the plugin \"{plugin}\" for {kind}.'\u001b[0m\u001b[1;33m)\u001b[0m\u001b[1;33m\u001b[0m\u001b[1;33m\u001b[0m\u001b[0m\n\u001b[0;32m    204\u001b[0m \u001b[1;33m\u001b[0m\u001b[0m\n\u001b[1;32m--> 205\u001b[1;33m     \u001b[1;32mreturn\u001b[0m \u001b[0mfunc\u001b[0m\u001b[1;33m(\u001b[0m\u001b[1;33m*\u001b[0m\u001b[0margs\u001b[0m\u001b[1;33m,\u001b[0m \u001b[1;33m**\u001b[0m\u001b[0mkwargs\u001b[0m\u001b[1;33m)\u001b[0m\u001b[1;33m\u001b[0m\u001b[1;33m\u001b[0m\u001b[0m\n\u001b[0m",
      "\u001b[1;32m~\\anaconda3\\Lib\\site-packages\\skimage\\io\\_plugins\\tifffile_plugin.py\u001b[0m in \u001b[0;36m?\u001b[1;34m(fname, **kwargs)\u001b[0m\n\u001b[0;32m     70\u001b[0m     \"\"\"\n\u001b[0;32m     71\u001b[0m     \u001b[1;32mif\u001b[0m \u001b[1;34m'img_num'\u001b[0m \u001b[1;32min\u001b[0m \u001b[0mkwargs\u001b[0m\u001b[1;33m:\u001b[0m\u001b[1;33m\u001b[0m\u001b[1;33m\u001b[0m\u001b[0m\n\u001b[0;32m     72\u001b[0m         \u001b[0mkwargs\u001b[0m\u001b[1;33m[\u001b[0m\u001b[1;34m'key'\u001b[0m\u001b[1;33m]\u001b[0m \u001b[1;33m=\u001b[0m \u001b[0mkwargs\u001b[0m\u001b[1;33m.\u001b[0m\u001b[0mpop\u001b[0m\u001b[1;33m(\u001b[0m\u001b[1;34m'img_num'\u001b[0m\u001b[1;33m)\u001b[0m\u001b[1;33m\u001b[0m\u001b[1;33m\u001b[0m\u001b[0m\n\u001b[0;32m     73\u001b[0m \u001b[1;33m\u001b[0m\u001b[0m\n\u001b[1;32m---> 74\u001b[1;33m     \u001b[1;32mreturn\u001b[0m \u001b[0mtifffile_imread\u001b[0m\u001b[1;33m(\u001b[0m\u001b[0mfname\u001b[0m\u001b[1;33m,\u001b[0m \u001b[1;33m**\u001b[0m\u001b[0mkwargs\u001b[0m\u001b[1;33m)\u001b[0m\u001b[1;33m\u001b[0m\u001b[1;33m\u001b[0m\u001b[0m\n\u001b[0m",
      "\u001b[1;32m~\\anaconda3\\Lib\\site-packages\\tifffile\\tifffile.py\u001b[0m in \u001b[0;36m?\u001b[1;34m(files, aszarr, key, series, level, squeeze, maxworkers, mode, name, offset, size, pattern, axesorder, categories, imread, sort, container, chunkshape, dtype, axestiled, ioworkers, chunkmode, fillvalue, zattrs, multiscales, omexml, out, out_inplace, _multifile, _useframes, **kwargs)\u001b[0m\n\u001b[0;32m   1058\u001b[0m \u001b[1;33m\u001b[0m\u001b[0m\n\u001b[0;32m   1059\u001b[0m         if isinstance(files, str) or not isinstance(\n\u001b[0;32m   1060\u001b[0m             \u001b[0mfiles\u001b[0m\u001b[1;33m,\u001b[0m \u001b[0mcollections\u001b[0m\u001b[1;33m.\u001b[0m\u001b[0mabc\u001b[0m\u001b[1;33m.\u001b[0m\u001b[0mSequence\u001b[0m\u001b[1;33m\u001b[0m\u001b[1;33m\u001b[0m\u001b[0m\n\u001b[0;32m   1061\u001b[0m         ):\n\u001b[1;32m-> 1062\u001b[1;33m             with TiffFile(\n\u001b[0m\u001b[0;32m   1063\u001b[0m                 \u001b[0mfiles\u001b[0m\u001b[1;33m,\u001b[0m\u001b[1;33m\u001b[0m\u001b[1;33m\u001b[0m\u001b[0m\n\u001b[0;32m   1064\u001b[0m                 \u001b[0mmode\u001b[0m\u001b[1;33m=\u001b[0m\u001b[0mmode\u001b[0m\u001b[1;33m,\u001b[0m\u001b[1;33m\u001b[0m\u001b[1;33m\u001b[0m\u001b[0m\n\u001b[0;32m   1065\u001b[0m                 \u001b[0mname\u001b[0m\u001b[1;33m=\u001b[0m\u001b[0mname\u001b[0m\u001b[1;33m,\u001b[0m\u001b[1;33m\u001b[0m\u001b[1;33m\u001b[0m\u001b[0m\n",
      "\u001b[1;32m~\\anaconda3\\Lib\\site-packages\\tifffile\\tifffile.py\u001b[0m in \u001b[0;36m?\u001b[1;34m(self, file, mode, name, offset, size, omexml, _multifile, _useframes, _parent, **is_flags)\u001b[0m\n\u001b[0;32m   3989\u001b[0m \u001b[1;33m\u001b[0m\u001b[0m\n\u001b[0;32m   3990\u001b[0m         \u001b[1;32mif\u001b[0m \u001b[0mmode\u001b[0m \u001b[1;32mnot\u001b[0m \u001b[1;32min\u001b[0m \u001b[1;33m(\u001b[0m\u001b[1;32mNone\u001b[0m\u001b[1;33m,\u001b[0m \u001b[1;34m'r'\u001b[0m\u001b[1;33m,\u001b[0m \u001b[1;34m'r+'\u001b[0m\u001b[1;33m,\u001b[0m \u001b[1;34m'rb'\u001b[0m\u001b[1;33m,\u001b[0m \u001b[1;34m'r+b'\u001b[0m\u001b[1;33m)\u001b[0m\u001b[1;33m:\u001b[0m\u001b[1;33m\u001b[0m\u001b[1;33m\u001b[0m\u001b[0m\n\u001b[0;32m   3991\u001b[0m             \u001b[1;32mraise\u001b[0m \u001b[0mValueError\u001b[0m\u001b[1;33m(\u001b[0m\u001b[1;34mf'invalid mode {mode!r}'\u001b[0m\u001b[1;33m)\u001b[0m\u001b[1;33m\u001b[0m\u001b[1;33m\u001b[0m\u001b[0m\n\u001b[0;32m   3992\u001b[0m \u001b[1;33m\u001b[0m\u001b[0m\n\u001b[1;32m-> 3993\u001b[1;33m         \u001b[0mfh\u001b[0m \u001b[1;33m=\u001b[0m \u001b[0mFileHandle\u001b[0m\u001b[1;33m(\u001b[0m\u001b[0mfile\u001b[0m\u001b[1;33m,\u001b[0m \u001b[0mmode\u001b[0m\u001b[1;33m=\u001b[0m\u001b[0mmode\u001b[0m\u001b[1;33m,\u001b[0m \u001b[0mname\u001b[0m\u001b[1;33m=\u001b[0m\u001b[0mname\u001b[0m\u001b[1;33m,\u001b[0m \u001b[0moffset\u001b[0m\u001b[1;33m=\u001b[0m\u001b[0moffset\u001b[0m\u001b[1;33m,\u001b[0m \u001b[0msize\u001b[0m\u001b[1;33m=\u001b[0m\u001b[0msize\u001b[0m\u001b[1;33m)\u001b[0m\u001b[1;33m\u001b[0m\u001b[1;33m\u001b[0m\u001b[0m\n\u001b[0m\u001b[0;32m   3994\u001b[0m         \u001b[0mself\u001b[0m\u001b[1;33m.\u001b[0m\u001b[0m_fh\u001b[0m \u001b[1;33m=\u001b[0m \u001b[0mfh\u001b[0m\u001b[1;33m\u001b[0m\u001b[1;33m\u001b[0m\u001b[0m\n\u001b[0;32m   3995\u001b[0m         \u001b[0mself\u001b[0m\u001b[1;33m.\u001b[0m\u001b[0m_multifile\u001b[0m \u001b[1;33m=\u001b[0m \u001b[1;32mTrue\u001b[0m \u001b[1;32mif\u001b[0m \u001b[0m_multifile\u001b[0m \u001b[1;32mis\u001b[0m \u001b[1;32mNone\u001b[0m \u001b[1;32melse\u001b[0m \u001b[0mbool\u001b[0m\u001b[1;33m(\u001b[0m\u001b[0m_multifile\u001b[0m\u001b[1;33m)\u001b[0m\u001b[1;33m\u001b[0m\u001b[1;33m\u001b[0m\u001b[0m\n\u001b[0;32m   3996\u001b[0m         \u001b[0mself\u001b[0m\u001b[1;33m.\u001b[0m\u001b[0m_files\u001b[0m \u001b[1;33m=\u001b[0m \u001b[1;33m{\u001b[0m\u001b[0mfh\u001b[0m\u001b[1;33m.\u001b[0m\u001b[0mname\u001b[0m\u001b[1;33m:\u001b[0m \u001b[0mself\u001b[0m\u001b[1;33m}\u001b[0m\u001b[1;33m\u001b[0m\u001b[1;33m\u001b[0m\u001b[0m\n",
      "\u001b[1;32m~\\anaconda3\\Lib\\site-packages\\tifffile\\tifffile.py\u001b[0m in \u001b[0;36m?\u001b[1;34m(self, file, mode, name, offset, size)\u001b[0m\n\u001b[0;32m  13925\u001b[0m         \u001b[0mself\u001b[0m\u001b[1;33m.\u001b[0m\u001b[0m_offset\u001b[0m \u001b[1;33m=\u001b[0m \u001b[1;33m-\u001b[0m\u001b[1;36m1\u001b[0m \u001b[1;32mif\u001b[0m \u001b[0moffset\u001b[0m \u001b[1;32mis\u001b[0m \u001b[1;32mNone\u001b[0m \u001b[1;32melse\u001b[0m \u001b[0moffset\u001b[0m\u001b[1;33m\u001b[0m\u001b[1;33m\u001b[0m\u001b[0m\n\u001b[0;32m  13926\u001b[0m         \u001b[0mself\u001b[0m\u001b[1;33m.\u001b[0m\u001b[0m_size\u001b[0m \u001b[1;33m=\u001b[0m \u001b[1;33m-\u001b[0m\u001b[1;36m1\u001b[0m \u001b[1;32mif\u001b[0m \u001b[0msize\u001b[0m \u001b[1;32mis\u001b[0m \u001b[1;32mNone\u001b[0m \u001b[1;32melse\u001b[0m \u001b[0msize\u001b[0m\u001b[1;33m\u001b[0m\u001b[1;33m\u001b[0m\u001b[0m\n\u001b[0;32m  13927\u001b[0m         \u001b[0mself\u001b[0m\u001b[1;33m.\u001b[0m\u001b[0m_close\u001b[0m \u001b[1;33m=\u001b[0m \u001b[1;32mTrue\u001b[0m\u001b[1;33m\u001b[0m\u001b[1;33m\u001b[0m\u001b[0m\n\u001b[0;32m  13928\u001b[0m         \u001b[0mself\u001b[0m\u001b[1;33m.\u001b[0m\u001b[0m_lock\u001b[0m \u001b[1;33m=\u001b[0m \u001b[0mNullContext\u001b[0m\u001b[1;33m(\u001b[0m\u001b[1;33m)\u001b[0m\u001b[1;33m\u001b[0m\u001b[1;33m\u001b[0m\u001b[0m\n\u001b[1;32m> 13929\u001b[1;33m         \u001b[0mself\u001b[0m\u001b[1;33m.\u001b[0m\u001b[0mopen\u001b[0m\u001b[1;33m(\u001b[0m\u001b[1;33m)\u001b[0m\u001b[1;33m\u001b[0m\u001b[1;33m\u001b[0m\u001b[0m\n\u001b[0m\u001b[0;32m  13930\u001b[0m         \u001b[1;32massert\u001b[0m \u001b[0mself\u001b[0m\u001b[1;33m.\u001b[0m\u001b[0m_fh\u001b[0m \u001b[1;32mis\u001b[0m \u001b[1;32mnot\u001b[0m \u001b[1;32mNone\u001b[0m\u001b[1;33m\u001b[0m\u001b[1;33m\u001b[0m\u001b[0m\n",
      "\u001b[1;32m~\\anaconda3\\Lib\\site-packages\\tifffile\\tifffile.py\u001b[0m in \u001b[0;36m?\u001b[1;34m(self)\u001b[0m\n\u001b[0;32m  13940\u001b[0m         \u001b[1;32mif\u001b[0m \u001b[0misinstance\u001b[0m\u001b[1;33m(\u001b[0m\u001b[0mself\u001b[0m\u001b[1;33m.\u001b[0m\u001b[0m_file\u001b[0m\u001b[1;33m,\u001b[0m \u001b[0mstr\u001b[0m\u001b[1;33m)\u001b[0m\u001b[1;33m:\u001b[0m\u001b[1;33m\u001b[0m\u001b[1;33m\u001b[0m\u001b[0m\n\u001b[0;32m  13941\u001b[0m             \u001b[1;31m# file name\u001b[0m\u001b[1;33m\u001b[0m\u001b[1;33m\u001b[0m\u001b[0m\n\u001b[0;32m  13942\u001b[0m             \u001b[0mself\u001b[0m\u001b[1;33m.\u001b[0m\u001b[0m_file\u001b[0m \u001b[1;33m=\u001b[0m \u001b[0mos\u001b[0m\u001b[1;33m.\u001b[0m\u001b[0mpath\u001b[0m\u001b[1;33m.\u001b[0m\u001b[0mrealpath\u001b[0m\u001b[1;33m(\u001b[0m\u001b[0mself\u001b[0m\u001b[1;33m.\u001b[0m\u001b[0m_file\u001b[0m\u001b[1;33m)\u001b[0m\u001b[1;33m\u001b[0m\u001b[1;33m\u001b[0m\u001b[0m\n\u001b[0;32m  13943\u001b[0m             \u001b[0mself\u001b[0m\u001b[1;33m.\u001b[0m\u001b[0m_dir\u001b[0m\u001b[1;33m,\u001b[0m \u001b[0mself\u001b[0m\u001b[1;33m.\u001b[0m\u001b[0m_name\u001b[0m \u001b[1;33m=\u001b[0m \u001b[0mos\u001b[0m\u001b[1;33m.\u001b[0m\u001b[0mpath\u001b[0m\u001b[1;33m.\u001b[0m\u001b[0msplit\u001b[0m\u001b[1;33m(\u001b[0m\u001b[0mself\u001b[0m\u001b[1;33m.\u001b[0m\u001b[0m_file\u001b[0m\u001b[1;33m)\u001b[0m\u001b[1;33m\u001b[0m\u001b[1;33m\u001b[0m\u001b[0m\n\u001b[1;32m> 13944\u001b[1;33m             \u001b[0mself\u001b[0m\u001b[1;33m.\u001b[0m\u001b[0m_fh\u001b[0m \u001b[1;33m=\u001b[0m \u001b[0mopen\u001b[0m\u001b[1;33m(\u001b[0m\u001b[0mself\u001b[0m\u001b[1;33m.\u001b[0m\u001b[0m_file\u001b[0m\u001b[1;33m,\u001b[0m \u001b[0mself\u001b[0m\u001b[1;33m.\u001b[0m\u001b[0m_mode\u001b[0m\u001b[1;33m)\u001b[0m  \u001b[1;31m# type: ignore\u001b[0m\u001b[1;33m\u001b[0m\u001b[1;33m\u001b[0m\u001b[0m\n\u001b[0m\u001b[0;32m  13945\u001b[0m             \u001b[0mself\u001b[0m\u001b[1;33m.\u001b[0m\u001b[0m_close\u001b[0m \u001b[1;33m=\u001b[0m \u001b[1;32mTrue\u001b[0m\u001b[1;33m\u001b[0m\u001b[1;33m\u001b[0m\u001b[0m\n\u001b[0;32m  13946\u001b[0m             \u001b[1;32mif\u001b[0m \u001b[0mself\u001b[0m\u001b[1;33m.\u001b[0m\u001b[0m_offset\u001b[0m \u001b[1;33m<\u001b[0m \u001b[1;36m0\u001b[0m\u001b[1;33m:\u001b[0m\u001b[1;33m\u001b[0m\u001b[1;33m\u001b[0m\u001b[0m\n\u001b[0;32m  13947\u001b[0m                 \u001b[0mself\u001b[0m\u001b[1;33m.\u001b[0m\u001b[0m_offset\u001b[0m \u001b[1;33m=\u001b[0m \u001b[1;36m0\u001b[0m\u001b[1;33m\u001b[0m\u001b[1;33m\u001b[0m\u001b[0m\n",
      "\u001b[1;31mFileNotFoundError\u001b[0m: [Errno 2] No such file or directory: 'F:\\\\Code\\\\smFISH\\\\data\\\\Chip_A_spider_1_CLB2_HWP1_24HR_RESULTSDONE\\\\stk_0003_CET111_EFG1Q670_HWP1CAL610_Spider37_01_CY5, CY3.5 NAR, DAPI.tif'"
     ]
    }
   ],
   "source": [
    "# load image data\n",
    "RNAs = io.imread('../data/Chip_A_spider_1_CLB2_HWP1_24HR_RESULTSDONE/CET111_HWP1Q610_Spider_CY3_01.tif')\n",
    "DAPI = io.imread('../data/Chip_A_spider_1_CLB2_HWP1_24HR_RESULTSDONE/stk_0003_CET111_EFG1Q670_HWP1CAL610_Spider37_01_CY5, CY3.5 NAR, DAPI.tif')\n",
    "DIC = io.imread('../data/Chip_A_spider_1_CLB2_HWP1_24HR_RESULTSDONE/CET111_EFG1Q670_HWP1CAL610_Spider37_01_BF.tif')\n",
    "mask = io.imread('../data/Chip_A_spider_1_CLB2_HWP1_24HR_RESULTSDONE/Masks/CET111_HWP1Q610_Spider_DIC_01_seg.tif')\n",
    "nuclear_mask = io.imread('../data/Chip_A_spider_1_CLB2_HWP1_24HR_RESULTSDONE/Masks/MAX_CET111_HWP1Q610_Spider_DAPI_01_seg.tif')\n",
    "\n",
    "# load spot data\n",
    "spot_data = np.load(glob('../data/Chip_A_spider_1_CLB2_HWP1_24HR_RESULTSDONE/Spots/CET111_HWP1Q610_Spider_CY3_01_spots_thr5.npy')[0])\n",
    "dense_data = np.load(glob('../data/*/Spots decomposition/CET111_HWP1Q610_Spider_CY3_01_spots_thr5_dd_regions.npy')[0])"
   ]
  },
  {
   "cell_type": "code",
   "execution_count": 4,
   "id": "ed89466d",
   "metadata": {},
   "outputs": [],
   "source": [
    "def preprocess_spot_data(spot_data, dense_data):\n",
    "    # spot_data has the form:\n",
    "    # z, y, x\n",
    "\n",
    "    # dense data has the form \n",
    "    # z, y, x, mRNA counts, -- other information --\n",
    "\n",
    "    # let's introduce mRNA counts of 1 for the spots:    \n",
    "    spot_data_padded = np.pad(spot_data, ((0,0),(0,1)), mode='constant', constant_values=1)\n",
    "    \n",
    "    # discard other information and merge\n",
    "    spot_data_combined = np.concatenate([spot_data_padded, dense_data[:,:4]], axis=0)\n",
    "    return spot_data_combined\n",
    "\n",
    "\n",
    "def count_spots(mask, nuclear_mask, spot_data, cells):    \n",
    "    for z, y, x, number in spot_data:\n",
    "        cell_id = mask[y, x]\n",
    "        nucleus = nuclear_mask[y, x]\n",
    "\n",
    "        if number == 1:\n",
    "            cells[cell_id]['spots_per_cell'] += number\n",
    "        else:\n",
    "            cells[cell_id]['dense_regions_per_cell'] += 1\n",
    "            cells[cell_id]['decomposed_RNAs'] += number\n",
    "\n",
    "            # if the spot sits in the nucleus, \n",
    "            # also increase nascent RNAs and transcription sites\n",
    "            if nucleus > 0:\n",
    "                cells[cell_id]['tx_per_cell'] += 1\n",
    "                cells[cell_id]['nascent_RNAs'] += number\n",
    "    return cells\n",
    "\n",
    "def count_nuclei(mask, nuclear_mask, cells):\n",
    "    # count nuclei per cell - hyphae may have multiple ones!\n",
    "    for nucleus in regionprops(nuclear_mask):\n",
    "        y, x = nucleus.centroid\n",
    "        cell_id = mask[int(y), int(x)]\n",
    "        cells[cell_id]['nuclei'] += 1\n",
    "    return cells\n",
    "\n",
    "def spot_assignment(mask, nuclear_mask, spot_data, dense_data):\n",
    "    cells = {}\n",
    "    \n",
    "    for cell_id in np.unique(mask):\n",
    "        cells[cell_id] = {\n",
    "            'spots_per_cell': 0,\n",
    "            'dense_regions_per_cell': 0,\n",
    "            'decomposed_RNAs': 0,\n",
    "            'tx_per_cell': 0,\n",
    "            'nascent_RNAs': 0,\n",
    "            'nuclei': 0\n",
    "        }\n",
    "        \n",
    "    spot_data_combined = preprocess_spot_data(spot_data, dense_data)\n",
    "    \n",
    "    cells = count_spots(mask, nuclear_mask, spot_data_combined, cells)\n",
    "    cells = count_nuclei(mask, nuclear_mask, cells)\n",
    "    \n",
    "    # remove spots on background\n",
    "    del cells[0]\n",
    "\n",
    "    # convert to dataframe, collect object information and merge\n",
    "    df = pd.DataFrame(cells).T.reset_index().rename(columns={'index': 'label'})\n",
    "    df['total_RNAs_per_cell'] = df['spots_per_cell'] + df['decomposed_RNAs'] - df['dense_regions_per_cell']\n",
    "\n",
    "    props = pd.DataFrame(regionprops_table(mask.astype(int), properties=['label', 'bbox', 'area', 'eccentricity', 'major_axis_length']))\n",
    "    df = props.merge(df, on='label')\n",
    "\n",
    "    return df"
   ]
  },
  {
   "cell_type": "code",
   "execution_count": 4,
   "id": "fb5808e0",
   "metadata": {},
   "outputs": [],
   "source": [
    "df = spot_assignment(mask, nuclear_mask, spot_data, dense_data)"
   ]
  },
  {
   "cell_type": "code",
   "execution_count": 5,
   "id": "e317590e",
   "metadata": {},
   "outputs": [
    {
     "data": {
      "text/html": [
       "<div>\n",
       "<style scoped>\n",
       "    .dataframe tbody tr th:only-of-type {\n",
       "        vertical-align: middle;\n",
       "    }\n",
       "\n",
       "    .dataframe tbody tr th {\n",
       "        vertical-align: top;\n",
       "    }\n",
       "\n",
       "    .dataframe thead th {\n",
       "        text-align: right;\n",
       "    }\n",
       "</style>\n",
       "<table border=\"1\" class=\"dataframe\">\n",
       "  <thead>\n",
       "    <tr style=\"text-align: right;\">\n",
       "      <th></th>\n",
       "      <th>label</th>\n",
       "      <th>bbox-0</th>\n",
       "      <th>bbox-1</th>\n",
       "      <th>bbox-2</th>\n",
       "      <th>bbox-3</th>\n",
       "      <th>area</th>\n",
       "      <th>eccentricity</th>\n",
       "      <th>spots_per_cell</th>\n",
       "      <th>dense_regions_per_cell</th>\n",
       "      <th>decomposed_RNAs</th>\n",
       "      <th>tx_per_cell</th>\n",
       "      <th>nascent_RNAs</th>\n",
       "      <th>nuclei</th>\n",
       "      <th>total_RNAs_per_cell</th>\n",
       "    </tr>\n",
       "  </thead>\n",
       "  <tbody>\n",
       "    <tr>\n",
       "      <th>0</th>\n",
       "      <td>1</td>\n",
       "      <td>0</td>\n",
       "      <td>425</td>\n",
       "      <td>27</td>\n",
       "      <td>486</td>\n",
       "      <td>1364.0</td>\n",
       "      <td>0.908397</td>\n",
       "      <td>0</td>\n",
       "      <td>0</td>\n",
       "      <td>0</td>\n",
       "      <td>0</td>\n",
       "      <td>0</td>\n",
       "      <td>1</td>\n",
       "      <td>0</td>\n",
       "    </tr>\n",
       "    <tr>\n",
       "      <th>1</th>\n",
       "      <td>2</td>\n",
       "      <td>0</td>\n",
       "      <td>367</td>\n",
       "      <td>571</td>\n",
       "      <td>471</td>\n",
       "      <td>12625.0</td>\n",
       "      <td>0.986942</td>\n",
       "      <td>8</td>\n",
       "      <td>1</td>\n",
       "      <td>3</td>\n",
       "      <td>0</td>\n",
       "      <td>0</td>\n",
       "      <td>3</td>\n",
       "      <td>10</td>\n",
       "    </tr>\n",
       "    <tr>\n",
       "      <th>2</th>\n",
       "      <td>3</td>\n",
       "      <td>215</td>\n",
       "      <td>0</td>\n",
       "      <td>533</td>\n",
       "      <td>670</td>\n",
       "      <td>16808.0</td>\n",
       "      <td>0.918540</td>\n",
       "      <td>0</td>\n",
       "      <td>0</td>\n",
       "      <td>0</td>\n",
       "      <td>0</td>\n",
       "      <td>0</td>\n",
       "      <td>1</td>\n",
       "      <td>0</td>\n",
       "    </tr>\n",
       "    <tr>\n",
       "      <th>3</th>\n",
       "      <td>4</td>\n",
       "      <td>329</td>\n",
       "      <td>666</td>\n",
       "      <td>364</td>\n",
       "      <td>714</td>\n",
       "      <td>1327.0</td>\n",
       "      <td>0.673452</td>\n",
       "      <td>0</td>\n",
       "      <td>0</td>\n",
       "      <td>0</td>\n",
       "      <td>0</td>\n",
       "      <td>0</td>\n",
       "      <td>1</td>\n",
       "      <td>0</td>\n",
       "    </tr>\n",
       "    <tr>\n",
       "      <th>4</th>\n",
       "      <td>5</td>\n",
       "      <td>305</td>\n",
       "      <td>560</td>\n",
       "      <td>352</td>\n",
       "      <td>631</td>\n",
       "      <td>2503.0</td>\n",
       "      <td>0.787041</td>\n",
       "      <td>1</td>\n",
       "      <td>0</td>\n",
       "      <td>0</td>\n",
       "      <td>0</td>\n",
       "      <td>0</td>\n",
       "      <td>1</td>\n",
       "      <td>1</td>\n",
       "    </tr>\n",
       "  </tbody>\n",
       "</table>\n",
       "</div>"
      ],
      "text/plain": [
       "   label  bbox-0  bbox-1  bbox-2  bbox-3     area  eccentricity  \\\n",
       "0      1       0     425      27     486   1364.0      0.908397   \n",
       "1      2       0     367     571     471  12625.0      0.986942   \n",
       "2      3     215       0     533     670  16808.0      0.918540   \n",
       "3      4     329     666     364     714   1327.0      0.673452   \n",
       "4      5     305     560     352     631   2503.0      0.787041   \n",
       "\n",
       "   spots_per_cell  dense_regions_per_cell  decomposed_RNAs  tx_per_cell  \\\n",
       "0               0                       0                0            0   \n",
       "1               8                       1                3            0   \n",
       "2               0                       0                0            0   \n",
       "3               0                       0                0            0   \n",
       "4               1                       0                0            0   \n",
       "\n",
       "   nascent_RNAs  nuclei  total_RNAs_per_cell  \n",
       "0             0       1                    0  \n",
       "1             0       3                   10  \n",
       "2             0       1                    0  \n",
       "3             0       1                    0  \n",
       "4             0       1                    1  "
      ]
     },
     "execution_count": 5,
     "metadata": {},
     "output_type": "execute_result"
    }
   ],
   "source": [
    "df.head()"
   ]
  },
  {
   "cell_type": "markdown",
   "id": "f2d4613b",
   "metadata": {},
   "source": [
    "***"
   ]
  },
  {
   "cell_type": "code",
   "execution_count": 9,
   "id": "02d806c2",
   "metadata": {},
   "outputs": [],
   "source": [
    "#ADDED MYSELF FROM CODE BELOW\n",
    "savename = \"TESTING\"\n",
    "root_dir = '../data/Chip_7'\n",
    "\n",
    "\n",
    "savename = f\"{root_dir}/Results/TESTING.csv\"\n",
    "\n",
    "\n",
    "df.to_csv(savename)"
   ]
  },
  {
   "cell_type": "markdown",
   "id": "d35b5b4b",
   "metadata": {},
   "source": [
    "## 4.2 - Batch assignment"
   ]
  },
  {
   "cell_type": "code",
   "execution_count": 11,
   "id": "bebc5917",
   "metadata": {},
   "outputs": [],
   "source": [
    "root_dir = '../data/Chip_B_Spider_1_EFG1_HWP1_24HR_RESULTSDONE'"
   ]
  },
  {
   "cell_type": "code",
   "execution_count": 12,
   "id": "779e190b",
   "metadata": {},
   "outputs": [
    {
     "name": "stdout",
     "output_type": "stream",
     "text": [
      "I found the following experiments:\n",
      "dict_keys(['CET111_EFG1Q670_Spider', 'CET111_HWP1Q610_Spider'])\n",
      "select applicable experiments\n"
     ]
    }
   ],
   "source": [
    "experiments = group_experiments(root_dir)\n",
    "\n",
    "print('I found the following experiments:')\n",
    "print(experiments.keys())\n",
    "print('select applicable experiments')"
   ]
  },
  {
   "cell_type": "code",
   "execution_count": 14,
   "id": "7c8b1cb4",
   "metadata": {},
   "outputs": [
    {
     "name": "stdout",
     "output_type": "stream",
     "text": [
      "CET111_EFG1Q670_Spider\n",
      "processing identifier='CET111_EFG1Q670_Spider', replicate=1\n"
     ]
    },
    {
     "ename": "DeflateError",
     "evalue": "libdeflate_zlib_decompress returned LIBDEFLATE_BAD_DATA",
     "output_type": "error",
     "traceback": [
      "\u001b[1;31m---------------------------------------------------------------------------\u001b[0m",
      "\u001b[1;31mDeflateError\u001b[0m                              Traceback (most recent call last)",
      "Cell \u001b[1;32mIn[14], line 10\u001b[0m\n\u001b[0;32m      7\u001b[0m \u001b[38;5;28;01mfor\u001b[39;00m replicate, paths, \u001b[38;5;129;01min\u001b[39;00m replicates\u001b[38;5;241m.\u001b[39mitems():\n\u001b[0;32m      9\u001b[0m     \u001b[38;5;28mprint\u001b[39m(\u001b[38;5;124mf\u001b[39m\u001b[38;5;124m'\u001b[39m\u001b[38;5;124mprocessing \u001b[39m\u001b[38;5;132;01m{\u001b[39;00midentifier\u001b[38;5;132;01m=}\u001b[39;00m\u001b[38;5;124m, \u001b[39m\u001b[38;5;132;01m{\u001b[39;00mreplicate\u001b[38;5;132;01m=}\u001b[39;00m\u001b[38;5;124m'\u001b[39m)\n\u001b[1;32m---> 10\u001b[0m     data \u001b[38;5;241m=\u001b[39m load_data(paths)\n\u001b[0;32m     11\u001b[0m     savename \u001b[38;5;241m=\u001b[39m \u001b[38;5;124mf\u001b[39m\u001b[38;5;124m\"\u001b[39m\u001b[38;5;132;01m{\u001b[39;00mroot_dir\u001b[38;5;132;01m}\u001b[39;00m\u001b[38;5;124m/Results/\u001b[39m\u001b[38;5;132;01m{\u001b[39;00mpaths[\u001b[38;5;124m'\u001b[39m\u001b[38;5;124moutput_name\u001b[39m\u001b[38;5;124m'\u001b[39m]\u001b[38;5;132;01m}\u001b[39;00m\u001b[38;5;124m.csv\u001b[39m\u001b[38;5;124m\"\u001b[39m\n\u001b[0;32m     13\u001b[0m     process \u001b[38;5;241m=\u001b[39m \u001b[38;5;28;01mTrue\u001b[39;00m\n",
      "File \u001b[1;32mF:\\Code\\smFISH\\notebooks\\..\\src\\misc.py:163\u001b[0m, in \u001b[0;36mload_data\u001b[1;34m(paths)\u001b[0m\n\u001b[0;32m    161\u001b[0m         output[name] \u001b[38;5;241m=\u001b[39m np\u001b[38;5;241m.\u001b[39mload(path)\n\u001b[0;32m    162\u001b[0m     \u001b[38;5;28;01mif\u001b[39;00m path\u001b[38;5;241m.\u001b[39mendswith(\u001b[38;5;124m'\u001b[39m\u001b[38;5;124m.tif\u001b[39m\u001b[38;5;124m'\u001b[39m):\n\u001b[1;32m--> 163\u001b[0m         output[name] \u001b[38;5;241m=\u001b[39m io\u001b[38;5;241m.\u001b[39mimread(path)\n\u001b[0;32m    165\u001b[0m \u001b[38;5;28;01mreturn\u001b[39;00m output\n",
      "File \u001b[1;32m~\\anaconda3\\Lib\\site-packages\\skimage\\io\\_io.py:53\u001b[0m, in \u001b[0;36mimread\u001b[1;34m(fname, as_gray, plugin, **plugin_args)\u001b[0m\n\u001b[0;32m     50\u001b[0m         plugin \u001b[38;5;241m=\u001b[39m \u001b[38;5;124m'\u001b[39m\u001b[38;5;124mtifffile\u001b[39m\u001b[38;5;124m'\u001b[39m\n\u001b[0;32m     52\u001b[0m \u001b[38;5;28;01mwith\u001b[39;00m file_or_url_context(fname) \u001b[38;5;28;01mas\u001b[39;00m fname:\n\u001b[1;32m---> 53\u001b[0m     img \u001b[38;5;241m=\u001b[39m call_plugin(\u001b[38;5;124m'\u001b[39m\u001b[38;5;124mimread\u001b[39m\u001b[38;5;124m'\u001b[39m, fname, plugin\u001b[38;5;241m=\u001b[39mplugin, \u001b[38;5;241m*\u001b[39m\u001b[38;5;241m*\u001b[39mplugin_args)\n\u001b[0;32m     55\u001b[0m \u001b[38;5;28;01mif\u001b[39;00m \u001b[38;5;129;01mnot\u001b[39;00m \u001b[38;5;28mhasattr\u001b[39m(img, \u001b[38;5;124m'\u001b[39m\u001b[38;5;124mndim\u001b[39m\u001b[38;5;124m'\u001b[39m):\n\u001b[0;32m     56\u001b[0m     \u001b[38;5;28;01mreturn\u001b[39;00m img\n",
      "File \u001b[1;32m~\\anaconda3\\Lib\\site-packages\\skimage\\io\\manage_plugins.py:205\u001b[0m, in \u001b[0;36mcall_plugin\u001b[1;34m(kind, *args, **kwargs)\u001b[0m\n\u001b[0;32m    202\u001b[0m     \u001b[38;5;28;01mexcept\u001b[39;00m \u001b[38;5;167;01mIndexError\u001b[39;00m:\n\u001b[0;32m    203\u001b[0m         \u001b[38;5;28;01mraise\u001b[39;00m \u001b[38;5;167;01mRuntimeError\u001b[39;00m(\u001b[38;5;124mf\u001b[39m\u001b[38;5;124m'\u001b[39m\u001b[38;5;124mCould not find the plugin \u001b[39m\u001b[38;5;124m\"\u001b[39m\u001b[38;5;132;01m{\u001b[39;00mplugin\u001b[38;5;132;01m}\u001b[39;00m\u001b[38;5;124m\"\u001b[39m\u001b[38;5;124m for \u001b[39m\u001b[38;5;132;01m{\u001b[39;00mkind\u001b[38;5;132;01m}\u001b[39;00m\u001b[38;5;124m.\u001b[39m\u001b[38;5;124m'\u001b[39m)\n\u001b[1;32m--> 205\u001b[0m \u001b[38;5;28;01mreturn\u001b[39;00m func(\u001b[38;5;241m*\u001b[39margs, \u001b[38;5;241m*\u001b[39m\u001b[38;5;241m*\u001b[39mkwargs)\n",
      "File \u001b[1;32m~\\anaconda3\\Lib\\site-packages\\skimage\\io\\_plugins\\tifffile_plugin.py:74\u001b[0m, in \u001b[0;36mimread\u001b[1;34m(fname, **kwargs)\u001b[0m\n\u001b[0;32m     71\u001b[0m \u001b[38;5;28;01mif\u001b[39;00m \u001b[38;5;124m'\u001b[39m\u001b[38;5;124mimg_num\u001b[39m\u001b[38;5;124m'\u001b[39m \u001b[38;5;129;01min\u001b[39;00m kwargs:\n\u001b[0;32m     72\u001b[0m     kwargs[\u001b[38;5;124m'\u001b[39m\u001b[38;5;124mkey\u001b[39m\u001b[38;5;124m'\u001b[39m] \u001b[38;5;241m=\u001b[39m kwargs\u001b[38;5;241m.\u001b[39mpop(\u001b[38;5;124m'\u001b[39m\u001b[38;5;124mimg_num\u001b[39m\u001b[38;5;124m'\u001b[39m)\n\u001b[1;32m---> 74\u001b[0m \u001b[38;5;28;01mreturn\u001b[39;00m tifffile_imread(fname, \u001b[38;5;241m*\u001b[39m\u001b[38;5;241m*\u001b[39mkwargs)\n",
      "File \u001b[1;32m~\\anaconda3\\Lib\\site-packages\\tifffile\\tifffile.py:1086\u001b[0m, in \u001b[0;36mimread\u001b[1;34m(files, aszarr, key, series, level, squeeze, maxworkers, mode, name, offset, size, pattern, axesorder, categories, imread, sort, container, chunkshape, dtype, axestiled, ioworkers, chunkmode, fillvalue, zattrs, multiscales, omexml, out, out_inplace, _multifile, _useframes, **kwargs)\u001b[0m\n\u001b[0;32m   1074\u001b[0m                 \u001b[38;5;28;01massert\u001b[39;00m key \u001b[38;5;129;01mis\u001b[39;00m \u001b[38;5;28;01mNone\u001b[39;00m \u001b[38;5;129;01mor\u001b[39;00m \u001b[38;5;28misinstance\u001b[39m(key, \u001b[38;5;28mint\u001b[39m)\n\u001b[0;32m   1075\u001b[0m                 \u001b[38;5;28;01mreturn\u001b[39;00m tif\u001b[38;5;241m.\u001b[39maszarr(\n\u001b[0;32m   1076\u001b[0m                     key\u001b[38;5;241m=\u001b[39mkey,\n\u001b[0;32m   1077\u001b[0m                     series\u001b[38;5;241m=\u001b[39mseries,\n\u001b[1;32m   (...)\u001b[0m\n\u001b[0;32m   1084\u001b[0m                     multiscales\u001b[38;5;241m=\u001b[39mmultiscales,\n\u001b[0;32m   1085\u001b[0m                 )\n\u001b[1;32m-> 1086\u001b[0m             \u001b[38;5;28;01mreturn\u001b[39;00m tif\u001b[38;5;241m.\u001b[39masarray(\n\u001b[0;32m   1087\u001b[0m                 key\u001b[38;5;241m=\u001b[39mkey,\n\u001b[0;32m   1088\u001b[0m                 series\u001b[38;5;241m=\u001b[39mseries,\n\u001b[0;32m   1089\u001b[0m                 level\u001b[38;5;241m=\u001b[39mlevel,\n\u001b[0;32m   1090\u001b[0m                 squeeze\u001b[38;5;241m=\u001b[39msqueeze,\n\u001b[0;32m   1091\u001b[0m                 maxworkers\u001b[38;5;241m=\u001b[39mmaxworkers,\n\u001b[0;32m   1092\u001b[0m                 out\u001b[38;5;241m=\u001b[39mout,\n\u001b[0;32m   1093\u001b[0m             )\n\u001b[0;32m   1095\u001b[0m \u001b[38;5;28;01melif\u001b[39;00m \u001b[38;5;28misinstance\u001b[39m(files, (FileHandle, BinaryIO)):\n\u001b[0;32m   1096\u001b[0m     \u001b[38;5;28;01mraise\u001b[39;00m \u001b[38;5;167;01mValueError\u001b[39;00m(\u001b[38;5;124m'\u001b[39m\u001b[38;5;124mBinaryIO not supported\u001b[39m\u001b[38;5;124m'\u001b[39m)\n",
      "File \u001b[1;32m~\\anaconda3\\Lib\\site-packages\\tifffile\\tifffile.py:4265\u001b[0m, in \u001b[0;36mTiffFile.asarray\u001b[1;34m(self, key, series, level, squeeze, out, maxworkers)\u001b[0m\n\u001b[0;32m   4263\u001b[0m     \u001b[38;5;28;01mif\u001b[39;00m page0 \u001b[38;5;129;01mis\u001b[39;00m \u001b[38;5;28;01mNone\u001b[39;00m:\n\u001b[0;32m   4264\u001b[0m         \u001b[38;5;28;01mraise\u001b[39;00m \u001b[38;5;167;01mValueError\u001b[39;00m(\u001b[38;5;124m'\u001b[39m\u001b[38;5;124mpage is None\u001b[39m\u001b[38;5;124m'\u001b[39m)\n\u001b[1;32m-> 4265\u001b[0m     result \u001b[38;5;241m=\u001b[39m page0\u001b[38;5;241m.\u001b[39masarray(out\u001b[38;5;241m=\u001b[39mout, maxworkers\u001b[38;5;241m=\u001b[39mmaxworkers)\n\u001b[0;32m   4266\u001b[0m \u001b[38;5;28;01melse\u001b[39;00m:\n\u001b[0;32m   4267\u001b[0m     result \u001b[38;5;241m=\u001b[39m stack_pages(pages, out\u001b[38;5;241m=\u001b[39mout, maxworkers\u001b[38;5;241m=\u001b[39mmaxworkers)\n",
      "File \u001b[1;32m~\\anaconda3\\Lib\\site-packages\\tifffile\\tifffile.py:8923\u001b[0m, in \u001b[0;36mTiffPage.asarray\u001b[1;34m(self, out, squeeze, lock, maxworkers)\u001b[0m\n\u001b[0;32m   8913\u001b[0m             out[\n\u001b[0;32m   8914\u001b[0m                 s, d : d \u001b[38;5;241m+\u001b[39m shape[\u001b[38;5;241m0\u001b[39m], h : h \u001b[38;5;241m+\u001b[39m shape[\u001b[38;5;241m1\u001b[39m], w : w \u001b[38;5;241m+\u001b[39m shape[\u001b[38;5;241m2\u001b[39m]\n\u001b[0;32m   8915\u001b[0m             ] \u001b[38;5;241m=\u001b[39m segment[\n\u001b[1;32m   (...)\u001b[0m\n\u001b[0;32m   8918\u001b[0m                 : keyframe\u001b[38;5;241m.\u001b[39mimagewidth \u001b[38;5;241m-\u001b[39m w,\n\u001b[0;32m   8919\u001b[0m             ]\n\u001b[0;32m   8920\u001b[0m         \u001b[38;5;66;03m# except IndexError:\u001b[39;00m\n\u001b[0;32m   8921\u001b[0m         \u001b[38;5;66;03m#     pass  # corrupted file, e.g., with too many strips\u001b[39;00m\n\u001b[1;32m-> 8923\u001b[0m     \u001b[38;5;28;01mfor\u001b[39;00m _ \u001b[38;5;129;01min\u001b[39;00m \u001b[38;5;28mself\u001b[39m\u001b[38;5;241m.\u001b[39msegments(\n\u001b[0;32m   8924\u001b[0m         func\u001b[38;5;241m=\u001b[39mfunc,\n\u001b[0;32m   8925\u001b[0m         lock\u001b[38;5;241m=\u001b[39mlock,\n\u001b[0;32m   8926\u001b[0m         maxworkers\u001b[38;5;241m=\u001b[39mmaxworkers,\n\u001b[0;32m   8927\u001b[0m         sort\u001b[38;5;241m=\u001b[39m\u001b[38;5;28;01mTrue\u001b[39;00m,\n\u001b[0;32m   8928\u001b[0m         _fullsize\u001b[38;5;241m=\u001b[39m\u001b[38;5;28;01mFalse\u001b[39;00m,\n\u001b[0;32m   8929\u001b[0m     ):\n\u001b[0;32m   8930\u001b[0m         \u001b[38;5;28;01mpass\u001b[39;00m\n\u001b[0;32m   8932\u001b[0m result\u001b[38;5;241m.\u001b[39mshape \u001b[38;5;241m=\u001b[39m keyframe\u001b[38;5;241m.\u001b[39mshaped\n",
      "File \u001b[1;32m~\\anaconda3\\Lib\\site-packages\\tifffile\\tifffile.py:8737\u001b[0m, in \u001b[0;36mTiffPage.segments\u001b[1;34m(self, lock, maxworkers, func, sort, _fullsize)\u001b[0m\n\u001b[0;32m   8729\u001b[0m \u001b[38;5;28;01mwith\u001b[39;00m ThreadPoolExecutor(maxworkers) \u001b[38;5;28;01mas\u001b[39;00m executor:\n\u001b[0;32m   8730\u001b[0m     \u001b[38;5;28;01mfor\u001b[39;00m segments \u001b[38;5;129;01min\u001b[39;00m fh\u001b[38;5;241m.\u001b[39mread_segments(\n\u001b[0;32m   8731\u001b[0m         \u001b[38;5;28mself\u001b[39m\u001b[38;5;241m.\u001b[39mdataoffsets,\n\u001b[0;32m   8732\u001b[0m         \u001b[38;5;28mself\u001b[39m\u001b[38;5;241m.\u001b[39mdatabytecounts,\n\u001b[1;32m   (...)\u001b[0m\n\u001b[0;32m   8735\u001b[0m         flat\u001b[38;5;241m=\u001b[39m\u001b[38;5;28;01mFalse\u001b[39;00m,\n\u001b[0;32m   8736\u001b[0m     ):\n\u001b[1;32m-> 8737\u001b[0m         \u001b[38;5;28;01myield from\u001b[39;00m executor\u001b[38;5;241m.\u001b[39mmap(decode, segments)\n",
      "File \u001b[1;32m~\\anaconda3\\Lib\\concurrent\\futures\\_base.py:619\u001b[0m, in \u001b[0;36mExecutor.map.<locals>.result_iterator\u001b[1;34m()\u001b[0m\n\u001b[0;32m    616\u001b[0m \u001b[38;5;28;01mwhile\u001b[39;00m fs:\n\u001b[0;32m    617\u001b[0m     \u001b[38;5;66;03m# Careful not to keep a reference to the popped future\u001b[39;00m\n\u001b[0;32m    618\u001b[0m     \u001b[38;5;28;01mif\u001b[39;00m timeout \u001b[38;5;129;01mis\u001b[39;00m \u001b[38;5;28;01mNone\u001b[39;00m:\n\u001b[1;32m--> 619\u001b[0m         \u001b[38;5;28;01myield\u001b[39;00m _result_or_cancel(fs\u001b[38;5;241m.\u001b[39mpop())\n\u001b[0;32m    620\u001b[0m     \u001b[38;5;28;01melse\u001b[39;00m:\n\u001b[0;32m    621\u001b[0m         \u001b[38;5;28;01myield\u001b[39;00m _result_or_cancel(fs\u001b[38;5;241m.\u001b[39mpop(), end_time \u001b[38;5;241m-\u001b[39m time\u001b[38;5;241m.\u001b[39mmonotonic())\n",
      "File \u001b[1;32m~\\anaconda3\\Lib\\concurrent\\futures\\_base.py:317\u001b[0m, in \u001b[0;36m_result_or_cancel\u001b[1;34m(***failed resolving arguments***)\u001b[0m\n\u001b[0;32m    315\u001b[0m \u001b[38;5;28;01mtry\u001b[39;00m:\n\u001b[0;32m    316\u001b[0m     \u001b[38;5;28;01mtry\u001b[39;00m:\n\u001b[1;32m--> 317\u001b[0m         \u001b[38;5;28;01mreturn\u001b[39;00m fut\u001b[38;5;241m.\u001b[39mresult(timeout)\n\u001b[0;32m    318\u001b[0m     \u001b[38;5;28;01mfinally\u001b[39;00m:\n\u001b[0;32m    319\u001b[0m         fut\u001b[38;5;241m.\u001b[39mcancel()\n",
      "File \u001b[1;32m~\\anaconda3\\Lib\\concurrent\\futures\\_base.py:449\u001b[0m, in \u001b[0;36mFuture.result\u001b[1;34m(self, timeout)\u001b[0m\n\u001b[0;32m    447\u001b[0m     \u001b[38;5;28;01mraise\u001b[39;00m CancelledError()\n\u001b[0;32m    448\u001b[0m \u001b[38;5;28;01melif\u001b[39;00m \u001b[38;5;28mself\u001b[39m\u001b[38;5;241m.\u001b[39m_state \u001b[38;5;241m==\u001b[39m FINISHED:\n\u001b[1;32m--> 449\u001b[0m     \u001b[38;5;28;01mreturn\u001b[39;00m \u001b[38;5;28mself\u001b[39m\u001b[38;5;241m.\u001b[39m__get_result()\n\u001b[0;32m    451\u001b[0m \u001b[38;5;28mself\u001b[39m\u001b[38;5;241m.\u001b[39m_condition\u001b[38;5;241m.\u001b[39mwait(timeout)\n\u001b[0;32m    453\u001b[0m \u001b[38;5;28;01mif\u001b[39;00m \u001b[38;5;28mself\u001b[39m\u001b[38;5;241m.\u001b[39m_state \u001b[38;5;129;01min\u001b[39;00m [CANCELLED, CANCELLED_AND_NOTIFIED]:\n",
      "File \u001b[1;32m~\\anaconda3\\Lib\\concurrent\\futures\\_base.py:401\u001b[0m, in \u001b[0;36mFuture.__get_result\u001b[1;34m(self)\u001b[0m\n\u001b[0;32m    399\u001b[0m \u001b[38;5;28;01mif\u001b[39;00m \u001b[38;5;28mself\u001b[39m\u001b[38;5;241m.\u001b[39m_exception:\n\u001b[0;32m    400\u001b[0m     \u001b[38;5;28;01mtry\u001b[39;00m:\n\u001b[1;32m--> 401\u001b[0m         \u001b[38;5;28;01mraise\u001b[39;00m \u001b[38;5;28mself\u001b[39m\u001b[38;5;241m.\u001b[39m_exception\n\u001b[0;32m    402\u001b[0m     \u001b[38;5;28;01mfinally\u001b[39;00m:\n\u001b[0;32m    403\u001b[0m         \u001b[38;5;66;03m# Break a reference cycle with the exception in self._exception\u001b[39;00m\n\u001b[0;32m    404\u001b[0m         \u001b[38;5;28mself\u001b[39m \u001b[38;5;241m=\u001b[39m \u001b[38;5;28;01mNone\u001b[39;00m\n",
      "File \u001b[1;32m~\\anaconda3\\Lib\\concurrent\\futures\\thread.py:58\u001b[0m, in \u001b[0;36m_WorkItem.run\u001b[1;34m(self)\u001b[0m\n\u001b[0;32m     55\u001b[0m     \u001b[38;5;28;01mreturn\u001b[39;00m\n\u001b[0;32m     57\u001b[0m \u001b[38;5;28;01mtry\u001b[39;00m:\n\u001b[1;32m---> 58\u001b[0m     result \u001b[38;5;241m=\u001b[39m \u001b[38;5;28mself\u001b[39m\u001b[38;5;241m.\u001b[39mfn(\u001b[38;5;241m*\u001b[39m\u001b[38;5;28mself\u001b[39m\u001b[38;5;241m.\u001b[39margs, \u001b[38;5;241m*\u001b[39m\u001b[38;5;241m*\u001b[39m\u001b[38;5;28mself\u001b[39m\u001b[38;5;241m.\u001b[39mkwargs)\n\u001b[0;32m     59\u001b[0m \u001b[38;5;28;01mexcept\u001b[39;00m \u001b[38;5;167;01mBaseException\u001b[39;00m \u001b[38;5;28;01mas\u001b[39;00m exc:\n\u001b[0;32m     60\u001b[0m     \u001b[38;5;28mself\u001b[39m\u001b[38;5;241m.\u001b[39mfuture\u001b[38;5;241m.\u001b[39mset_exception(exc)\n",
      "File \u001b[1;32m~\\anaconda3\\Lib\\site-packages\\tifffile\\tifffile.py:8712\u001b[0m, in \u001b[0;36mTiffPage.segments.<locals>.decode\u001b[1;34m(args, decodeargs, decode)\u001b[0m\n\u001b[0;32m   8711\u001b[0m \u001b[38;5;28;01mdef\u001b[39;00m \u001b[38;5;21mdecode\u001b[39m(args, decodeargs\u001b[38;5;241m=\u001b[39mdecodeargs, decode\u001b[38;5;241m=\u001b[39mkeyframe\u001b[38;5;241m.\u001b[39mdecode):\n\u001b[1;32m-> 8712\u001b[0m     \u001b[38;5;28;01mreturn\u001b[39;00m func(decode(\u001b[38;5;241m*\u001b[39margs, \u001b[38;5;241m*\u001b[39m\u001b[38;5;241m*\u001b[39mdecodeargs))\n",
      "File \u001b[1;32m~\\anaconda3\\Lib\\site-packages\\tifffile\\tifffile.py:8641\u001b[0m, in \u001b[0;36mTiffPage.decode.<locals>.decode_other\u001b[1;34m(data, index, jpegtables, jpegheader, _fullsize)\u001b[0m\n\u001b[0;32m   8638\u001b[0m \u001b[38;5;28;01mif\u001b[39;00m decompress \u001b[38;5;129;01mis\u001b[39;00m \u001b[38;5;129;01mnot\u001b[39;00m \u001b[38;5;28;01mNone\u001b[39;00m:\n\u001b[0;32m   8639\u001b[0m     \u001b[38;5;66;03m# TODO: calculate correct size for packed integers\u001b[39;00m\n\u001b[0;32m   8640\u001b[0m     size \u001b[38;5;241m=\u001b[39m shape[\u001b[38;5;241m0\u001b[39m] \u001b[38;5;241m*\u001b[39m shape[\u001b[38;5;241m1\u001b[39m] \u001b[38;5;241m*\u001b[39m shape[\u001b[38;5;241m2\u001b[39m] \u001b[38;5;241m*\u001b[39m shape[\u001b[38;5;241m3\u001b[39m]\n\u001b[1;32m-> 8641\u001b[0m     data \u001b[38;5;241m=\u001b[39m decompress(data, out\u001b[38;5;241m=\u001b[39msize \u001b[38;5;241m*\u001b[39m dtype\u001b[38;5;241m.\u001b[39mitemsize)\n\u001b[0;32m   8642\u001b[0m data_array \u001b[38;5;241m=\u001b[39m unpack(data)  \u001b[38;5;66;03m# type: ignore\u001b[39;00m\n\u001b[0;32m   8643\u001b[0m \u001b[38;5;66;03m# del data\u001b[39;00m\n",
      "File \u001b[1;32mimagecodecs\\_deflate.pyx:236\u001b[0m, in \u001b[0;36mimagecodecs._deflate.deflate_decode\u001b[1;34m()\u001b[0m\n",
      "\u001b[1;31mDeflateError\u001b[0m: libdeflate_zlib_decompress returned LIBDEFLATE_BAD_DATA"
     ]
    }
   ],
   "source": [
    "experiments_to_process = ['CET111_EFG1Q670_Spider']\n",
    "\n",
    "for identifier in experiments_to_process:\n",
    "    print(identifier)\n",
    "    replicates = experiments[identifier]\n",
    "    \n",
    "    for replicate, paths, in replicates.items():\n",
    "\n",
    "        print(f'processing {identifier=}, {replicate=}')\n",
    "        data = load_data(paths)\n",
    "        savename = f\"{root_dir}/Results/{paths['output_name']}.csv\"\n",
    "\n",
    "        process = True\n",
    "        # check if all files required for this step have been loaded\n",
    "        for entry in ['spots', 'dense', 'cell_mask', 'nuclear_mask']:\n",
    "            if data.get(entry) is None:\n",
    "                print(f'{identifier=}, {replicate=}, {entry=} could not be found')\n",
    "                print(f'skipping {identifier=}, {replicate=}!')\n",
    "                process=False\n",
    "\n",
    "        if process:\n",
    "            df = spot_assignment(\n",
    "                data.get('cell_mask'), \n",
    "                data.get('nuclear_mask'),\n",
    "                data.get('spots'),\n",
    "                data.get('dense')\n",
    "            )\n",
    "\n",
    "            print(f'saving data to {savename}')\n",
    "            df.to_csv(savename)\n",
    "            print('done.')\n",
    "\n",
    "        print(10*'-')"
   ]
  }
 ],
 "metadata": {
  "kernelspec": {
   "display_name": "Python 3 (ipykernel)",
   "language": "python",
   "name": "python3"
  },
  "language_info": {
   "codemirror_mode": {
    "name": "ipython",
    "version": 3
   },
   "file_extension": ".py",
   "mimetype": "text/x-python",
   "name": "python",
   "nbconvert_exporter": "python",
   "pygments_lexer": "ipython3",
   "version": "3.11.5"
  }
 },
 "nbformat": 4,
 "nbformat_minor": 5
}
