{
 "cells": [
  {
   "cell_type": "markdown",
   "id": "d99676f9",
   "metadata": {},
   "source": [
    "# <span style=\"color:darkblue\">03-Spot_decomposition</span>"
   ]
  },
  {
   "cell_type": "markdown",
   "id": "49eaf9b2",
   "metadata": {},
   "source": [
    "In this notebook we will guide you through performing spot decomposition using the BigFISH libray, opening your images in Napari, and saving the generated decomposed spot detection data. We decompose Transcription sites (Txs) within the cell nucleus to estimate the number of nascent mRNAs. For more documentation of the BigFISH library see: https://big-fish.readthedocs.io/en/stable/index.html. At the bottom of this notebook batch decomposition can be performed."
   ]
  },
  {
   "cell_type": "markdown",
   "id": "30349e8d",
   "metadata": {},
   "source": [
    "## 3.0 - Load libraries"
   ]
  },
  {
   "cell_type": "code",
   "execution_count": 3,
   "id": "f7272a47",
   "metadata": {},
   "outputs": [
    {
     "name": "stderr",
     "output_type": "stream",
     "text": [
      "C:\\Users\\roana\\anaconda3\\Lib\\site-packages\\paramiko\\transport.py:219: CryptographyDeprecationWarning: Blowfish has been deprecated\n",
      "  \"class\": algorithms.Blowfish,\n"
     ]
    }
   ],
   "source": [
    "import re\n",
    "from glob import glob\n",
    "from skimage import io\n",
    "from pathlib import Path\n",
    "import numpy as np\n",
    "import napari\n",
    "import matplotlib.pyplot as plt\n",
    "from bigfish.detection import decompose_dense\n",
    "from bigfish.stack import remove_background_gaussian\n",
    "\n",
    "import sys\n",
    "sys.path.append('../')\n",
    "from src.misc import group_experiments, load_data"
   ]
  },
  {
   "cell_type": "markdown",
   "id": "6728e956",
   "metadata": {},
   "source": [
    "***"
   ]
  },
  {
   "cell_type": "markdown",
   "id": "ac979e85",
   "metadata": {},
   "source": [
    "## 3.1 - Example of spot decomposition on a single image"
   ]
  },
  {
   "cell_type": "code",
   "execution_count": 16,
   "id": "aa47013b",
   "metadata": {},
   "outputs": [],
   "source": [
    "# load image data\n",
    "RNAs = io.imread('../data/Chip_9_24hr_CLB2_HWP1/CET111_HWP1Q610_SC_CY3_02.tif')\n",
    "DAPI = io.imread('../data/Chip_7_EFG1_HWP1_24HR_ACTUAL/CET111_HWP1Q610_SC_DAPI_02.tif')\n",
    "DIC = io.imread('../data/Chip_7_EFG1_HWP1_24HR_ACTUAL/Masks/CET111_HWP1Q610_SC_DIC_02_seg.tif')\n",
    "mask = io.imread('../data/Chip_7_EFG1_HWP1_24HR_ACTUAL/Masks/CET111_HWP1Q610_SC_DIC_02_seg.tif')\n",
    "nuclear_mask = io.imread('../data/Chip_7_EFG1_HWP1_24HR_ACTUAL/Masks/MAX_CET111_HWP1Q610_SC_DAPI_02_seg.tif')\n",
    "\n",
    "# load spot data\n",
    "spot_data = np.load(glob('../data/Chip_7_EFG1_HWP1_24HR_ACTUAL/Spots/CET111_HWP1Q610_SC_CY3_02_spots_thr4.npy')[0])"
   ]
  },
  {
   "cell_type": "markdown",
   "id": "3d3ac30a",
   "metadata": {},
   "source": [
    "Add the loaded data to a Napari viewer and inspect whether the data is loaded correctly."
   ]
  },
  {
   "cell_type": "code",
   "execution_count": 17,
   "id": "c5184034",
   "metadata": {},
   "outputs": [
    {
     "data": {
      "text/plain": [
       "<Points layer 'spot_data' at 0x168087e3d00>"
      ]
     },
     "execution_count": 17,
     "metadata": {},
     "output_type": "execute_result"
    }
   ],
   "source": [
    "viewer=napari.Viewer()\n",
    "\n",
    "#scale\n",
    "scale = (200,65,65)\n",
    "\n",
    "viewer.add_image(RNAs, name='RNA channel',scale=scale)\n",
    "#viewer.add_image(DAPI, name='DAPI channel',scale=scale)\n",
    "\n",
    "# parameter for guassian filtering\n",
    "sigma = (0.75,2.3,2.3)\n",
    "# guassian filtering\n",
    "filt_RNAs=remove_background_gaussian(RNAs, sigma=sigma)\n",
    "\n",
    "viewer.add_image(filt_RNAs, name='filt RNA channel',scale=scale)\n",
    "viewer.add_labels(nuclear_mask, name='nuclei',scale=scale[-2:])\n",
    "viewer.add_points(spot_data,scale=scale, size=0.3)"
   ]
  },
  {
   "cell_type": "markdown",
   "id": "9198c281",
   "metadata": {},
   "source": [
    "Decompose dense regions into seperate spots."
   ]
  },
  {
   "cell_type": "code",
   "execution_count": 18,
   "id": "8acb02a1",
   "metadata": {},
   "outputs": [],
   "source": [
    "# parameters\n",
    "spot_radius = (1200, 170, 170)"
   ]
  },
  {
   "cell_type": "code",
   "execution_count": 19,
   "id": "79404100",
   "metadata": {},
   "outputs": [],
   "source": [
    "spots, dense_regions, reference_spots = decompose_dense(\n",
    "    viewer.layers['filt RNA channel'].data,\n",
    "    spot_data,\n",
    "    voxel_size=scale,\n",
    "    spot_radius=spot_radius,\n",
    "    alpha=0.5,beta=2,gamma=1\n",
    ")"
   ]
  },
  {
   "cell_type": "markdown",
   "id": "ab30c999",
   "metadata": {},
   "source": [
    "Inspect whether the reference spot looks approximately gaussian."
   ]
  },
  {
   "cell_type": "code",
   "execution_count": 20,
   "id": "2f485ccc",
   "metadata": {},
   "outputs": [
    {
     "data": {
      "image/png": "[encoded data removed]",
      "text/plain": [
       "<Figure size 1440x720 with 23 Axes>"
      ]
     },
     "metadata": {
      "needs_background": "light"
     },
     "output_type": "display_data"
    }
   ],
   "source": [
    "fig,axis=plt.subplots(ncols=reference_spots.shape[0],figsize=(20,10))\n",
    "\n",
    "for i,ax in zip(range(len(axis)),axis):\n",
    "    ax.imshow(reference_spots[i])\n",
    "    ax.get_xaxis().set_visible(False)\n",
    "    ax.get_yaxis().set_visible(False)"
   ]
  },
  {
   "cell_type": "markdown",
   "id": "044ea3df",
   "metadata": {},
   "source": [
    "Inspect the detected dense RNA regions in Napari. Make sure all TXs in the nuclei are correctly identified. \n",
    "\n",
    "Note: false Txs identified outside of the cell nucleus will be filtered out in the next notebook."
   ]
  },
  {
   "cell_type": "code",
   "execution_count": 21,
   "id": "a126dd6b",
   "metadata": {
    "scrolled": true
   },
   "outputs": [
    {
     "name": "stderr",
     "output_type": "stream",
     "text": [
      "WARNING: Traceback (most recent call last):\n",
      "  File \"C:\\Users\\Evelina\\anaconda3\\envs\\quant\\lib\\runpy.py\", line 197, in _run_module_as_main\n",
      "    return _run_code(code, main_globals, None,\n",
      "  File \"C:\\Users\\Evelina\\anaconda3\\envs\\quant\\lib\\runpy.py\", line 87, in _run_code\n",
      "    exec(code, run_globals)\n",
      "  File \"C:\\Users\\Evelina\\anaconda3\\envs\\quant\\lib\\site-packages\\ipykernel_launcher.py\", line 16, in <module>\n",
      "    app.launch_new_instance()\n",
      "  File \"C:\\Users\\Evelina\\AppData\\Roaming\\Python\\Python39\\site-packages\\traitlets\\config\\application.py\", line 1043, in launch_instance\n",
      "    app.start()\n",
      "  File \"C:\\Users\\Evelina\\anaconda3\\envs\\quant\\lib\\site-packages\\ipykernel\\kernelapp.py\", line 619, in start\n",
      "    self.io_loop.start()\n",
      "  File \"C:\\Users\\Evelina\\anaconda3\\envs\\quant\\lib\\site-packages\\tornado\\platform\\asyncio.py\", line 199, in start\n",
      "    self.asyncio_loop.run_forever()\n",
      "  File \"C:\\Users\\Evelina\\anaconda3\\envs\\quant\\lib\\asyncio\\base_events.py\", line 601, in run_forever\n",
      "    self._run_once()\n",
      "  File \"C:\\Users\\Evelina\\anaconda3\\envs\\quant\\lib\\asyncio\\base_events.py\", line 1905, in _run_once\n",
      "    handle._run()\n",
      "  File \"C:\\Users\\Evelina\\anaconda3\\envs\\quant\\lib\\asyncio\\events.py\", line 80, in _run\n",
      "    self._context.run(self._callback, *self._args)\n",
      "  File \"C:\\Users\\Evelina\\anaconda3\\envs\\quant\\lib\\site-packages\\tornado\\ioloop.py\", line 688, in <lambda>\n",
      "    lambda f: self._run_callback(functools.partial(callback, future))\n",
      "  File \"C:\\Users\\Evelina\\anaconda3\\envs\\quant\\lib\\site-packages\\tornado\\ioloop.py\", line 741, in _run_callback\n",
      "    ret = callback()\n",
      "  File \"C:\\Users\\Evelina\\anaconda3\\envs\\quant\\lib\\site-packages\\tornado\\gen.py\", line 814, in inner\n",
      "    self.ctx_run(self.run)\n",
      "  File \"C:\\Users\\Evelina\\anaconda3\\envs\\quant\\lib\\site-packages\\tornado\\gen.py\", line 775, in run\n",
      "    yielded = self.gen.send(value)\n",
      "  File \"C:\\Users\\Evelina\\anaconda3\\envs\\quant\\lib\\site-packages\\ipykernel\\kernelbase.py\", line 358, in process_one\n",
      "    yield gen.maybe_future(dispatch(*args))\n",
      "  File \"C:\\Users\\Evelina\\anaconda3\\envs\\quant\\lib\\site-packages\\tornado\\gen.py\", line 234, in wrapper\n",
      "    yielded = ctx_run(next, result)\n",
      "  File \"C:\\Users\\Evelina\\anaconda3\\envs\\quant\\lib\\site-packages\\ipykernel\\kernelbase.py\", line 261, in dispatch_shell\n",
      "    yield gen.maybe_future(handler(stream, idents, msg))\n",
      "  File \"C:\\Users\\Evelina\\anaconda3\\envs\\quant\\lib\\site-packages\\tornado\\gen.py\", line 234, in wrapper\n",
      "    yielded = ctx_run(next, result)\n",
      "  File \"C:\\Users\\Evelina\\anaconda3\\envs\\quant\\lib\\site-packages\\ipykernel\\kernelbase.py\", line 536, in execute_request\n",
      "    self.do_execute(\n",
      "  File \"C:\\Users\\Evelina\\anaconda3\\envs\\quant\\lib\\site-packages\\tornado\\gen.py\", line 234, in wrapper\n",
      "    yielded = ctx_run(next, result)\n",
      "  File \"C:\\Users\\Evelina\\anaconda3\\envs\\quant\\lib\\site-packages\\ipykernel\\ipkernel.py\", line 302, in do_execute\n",
      "    res = shell.run_cell(code, store_history=store_history, silent=silent)\n",
      "  File \"C:\\Users\\Evelina\\anaconda3\\envs\\quant\\lib\\site-packages\\ipykernel\\zmqshell.py\", line 539, in run_cell\n",
      "    return super(ZMQInteractiveShell, self).run_cell(*args, **kwargs)\n",
      "  File \"C:\\Users\\Evelina\\anaconda3\\envs\\quant\\lib\\site-packages\\IPython\\core\\interactiveshell.py\", line 2898, in run_cell\n",
      "    result = self._run_cell(\n",
      "  File \"C:\\Users\\Evelina\\anaconda3\\envs\\quant\\lib\\site-packages\\IPython\\core\\interactiveshell.py\", line 2944, in _run_cell\n",
      "    return runner(coro)\n",
      "  File \"C:\\Users\\Evelina\\anaconda3\\envs\\quant\\lib\\site-packages\\IPython\\core\\async_helpers.py\", line 68, in _pseudo_sync_runner\n",
      "    coro.send(None)\n",
      "  File \"C:\\Users\\Evelina\\anaconda3\\envs\\quant\\lib\\site-packages\\IPython\\core\\interactiveshell.py\", line 3169, in run_cell_async\n",
      "    has_raised = await self.run_ast_nodes(code_ast.body, cell_name,\n",
      "  File \"C:\\Users\\Evelina\\anaconda3\\envs\\quant\\lib\\site-packages\\IPython\\core\\interactiveshell.py\", line 3361, in run_ast_nodes\n",
      "    if (await self.run_code(code, result,  async_=asy)):\n",
      "  File \"C:\\Users\\Evelina\\anaconda3\\envs\\quant\\lib\\site-packages\\IPython\\core\\interactiveshell.py\", line 3441, in run_code\n",
      "    exec(code_obj, self.user_global_ns, self.user_ns)\n",
      "  File \"<ipython-input-21-b160a27ca7f2>\", line 1, in <module>\n",
      "    viewer.add_points(\n",
      "  File \"C:\\Users\\Evelina\\anaconda3\\envs\\quant\\lib\\site-packages\\napari\\components\\viewer_model.py\", line 11, in add_points\n",
      "    Any,\n",
      "  File \"C:\\Users\\Evelina\\anaconda3\\envs\\quant\\lib\\_collections_abc.py\", line 1073, in append\n",
      "    self.insert(len(self), value)\n",
      "  File \"C:\\Users\\Evelina\\anaconda3\\envs\\quant\\lib\\site-packages\\napari\\components\\layerlist.py\", line 167, in insert\n",
      "    super().insert(index, new_layer)\n",
      "  File \"C:\\Users\\Evelina\\anaconda3\\envs\\quant\\lib\\site-packages\\napari\\utils\\events\\containers\\_selectable_list.py\", line 66, in insert\n",
      "    super().insert(index, value)\n",
      "  File \"C:\\Users\\Evelina\\anaconda3\\envs\\quant\\lib\\site-packages\\napari\\utils\\events\\containers\\_evented_list.py\", line 195, in insert\n",
      "    self.events.inserted(index=index, value=value)\n",
      "  File \"C:\\Users\\Evelina\\anaconda3\\envs\\quant\\lib\\site-packages\\napari\\utils\\events\\event.py\", line 763, in __call__\n",
      "    self._invoke_callback(cb, event if pass_event else None)\n",
      "  File \"C:\\Users\\Evelina\\anaconda3\\envs\\quant\\lib\\site-packages\\napari\\utils\\events\\event.py\", line 788, in _invoke_callback\n",
      "    cb(event)\n",
      "  File \"C:\\Users\\Evelina\\anaconda3\\envs\\quant\\lib\\site-packages\\napari\\_qt\\qt_viewer.py\", line 656, in _on_add_layer_change\n",
      "    self._add_layer(layer)\n",
      "  File \"C:\\Users\\Evelina\\anaconda3\\envs\\quant\\lib\\site-packages\\napari\\_qt\\qt_viewer.py\", line 680, in _add_layer\n",
      "    vispy_layer.node.parent = self.view.scene\n",
      "  File \"C:\\Users\\Evelina\\anaconda3\\envs\\quant\\lib\\site-packages\\vispy\\util\\frozen.py\", line 17, in __setattr__\n",
      "    object.__setattr__(self, key, value)\n",
      "  File \"C:\\Users\\Evelina\\anaconda3\\envs\\quant\\lib\\site-packages\\vispy\\scene\\node.py\", line 200, in parent\n",
      "    self._set_canvas(parent.canvas)\n",
      "  File \"C:\\Users\\Evelina\\anaconda3\\envs\\quant\\lib\\site-packages\\vispy\\scene\\node.py\", line 317, in _set_canvas\n",
      "    self.transforms.canvas_transform = tr.canvas_transform\n",
      "  File \"C:\\Users\\Evelina\\anaconda3\\envs\\quant\\lib\\site-packages\\vispy\\visuals\\transforms\\transform_system.py\", line 301, in canvas_transform\n",
      "    self._canvas_transform.transforms = tr\n",
      "  File \"C:\\Users\\Evelina\\anaconda3\\envs\\quant\\lib\\site-packages\\vispy\\visuals\\transforms\\chain.py\", line 96, in transforms\n",
      "    self.update()\n",
      "  File \"C:\\Users\\Evelina\\anaconda3\\envs\\quant\\lib\\site-packages\\vispy\\visuals\\transforms\\base_transform.py\", line 148, in update\n",
      "    self.changed(*args)\n",
      "  File \"C:\\Users\\Evelina\\anaconda3\\envs\\quant\\lib\\site-packages\\vispy\\util\\event.py\", line 453, in __call__\n",
      "    self._invoke_callback(cb, event)\n",
      "  File \"C:\\Users\\Evelina\\anaconda3\\envs\\quant\\lib\\site-packages\\vispy\\util\\event.py\", line 469, in _invoke_callback\n",
      "    cb(event)\n",
      "  File \"C:\\Users\\Evelina\\anaconda3\\envs\\quant\\lib\\site-packages\\vispy\\util\\event.py\", line 453, in __call__\n",
      "    self._invoke_callback(cb, event)\n",
      "  File \"C:\\Users\\Evelina\\anaconda3\\envs\\quant\\lib\\site-packages\\vispy\\util\\event.py\", line 469, in _invoke_callback\n",
      "    cb(event)\n",
      "  File \"C:\\Users\\Evelina\\anaconda3\\envs\\quant\\lib\\site-packages\\vispy\\visuals\\visual.py\", line 268, in _transform_changed\n",
      "    self.update()\n",
      "  File \"C:\\Users\\Evelina\\anaconda3\\envs\\quant\\lib\\site-packages\\vispy\\scene\\node.py\", line 331, in update\n",
      "    self.events.update()\n",
      "  File \"C:\\Users\\Evelina\\anaconda3\\envs\\quant\\lib\\site-packages\\vispy\\util\\event.py\", line 453, in __call__\n",
      "    self._invoke_callback(cb, event)\n",
      "  File \"C:\\Users\\Evelina\\anaconda3\\envs\\quant\\lib\\site-packages\\vispy\\util\\event.py\", line 471, in _invoke_callback\n",
      "    _handle_exception(self.ignore_callback_errors,\n",
      "  << caught exception here: >>\n",
      "  File \"C:\\Users\\Evelina\\anaconda3\\envs\\quant\\lib\\site-packages\\vispy\\util\\event.py\", line 469, in _invoke_callback\n",
      "    cb(event)\n",
      "  File \"C:\\Users\\Evelina\\anaconda3\\envs\\quant\\lib\\site-packages\\vispy\\visuals\\visual.py\", line 652, in _subv_update\n",
      "    self.update()\n",
      "  File \"C:\\Users\\Evelina\\anaconda3\\envs\\quant\\lib\\site-packages\\vispy\\scene\\node.py\", line 334, in update\n",
      "    c.update(node=self)\n",
      "  File \"C:\\Users\\Evelina\\anaconda3\\envs\\quant\\lib\\site-packages\\vispy\\scene\\canvas.py\", line 202, in update\n",
      "    super(SceneCanvas, self).update()\n",
      "  File \"C:\\Users\\Evelina\\anaconda3\\envs\\quant\\lib\\site-packages\\vispy\\app\\canvas.py\", line 448, in update\n",
      "    self._backend._vispy_update()\n",
      "  File \"C:\\Users\\Evelina\\anaconda3\\envs\\quant\\lib\\site-packages\\vispy\\app\\backends\\_qt.py\", line 480, in _vispy_update\n",
      "    self.update()\n",
      "RuntimeError: wrapped C/C++ object of type CanvasBackendDesktop has been deleted\n"
     ]
    },
    {
     "name": "stderr",
     "output_type": "stream",
     "text": [
      "ERROR: Invoking <bound method CompoundVisual._subv_update of <PointsVisual at 0x16812c315b0>> for Event\n"
     ]
    },
    {
     "data": {
      "text/plain": [
       "<Points layer 'Txs' at 0x16812bcf730>"
      ]
     },
     "execution_count": 21,
     "metadata": {},
     "output_type": "execute_result"
    }
   ],
   "source": [
    "viewer.add_points(\n",
    "    dense_regions[:,:3],\n",
    "    scale=scale,\n",
    "    edge_color='blue',\n",
    "    name='Txs'\n",
    ")"
   ]
  },
  {
   "cell_type": "markdown",
   "id": "8ecabaf9",
   "metadata": {},
   "source": [
    "Number of Nascent RNAs per potential Txs."
   ]
  },
  {
   "cell_type": "code",
   "execution_count": 22,
   "id": "1b942017",
   "metadata": {
    "scrolled": true
   },
   "outputs": [
    {
     "data": {
      "image/png": "[encoded data removed]",
      "text/plain": [
       "<Figure size 720x576 with 1 Axes>"
      ]
     },
     "metadata": {},
     "output_type": "display_data"
    }
   ],
   "source": [
    "fig, ax = plt.subplots(facecolor='white', figsize = (10,8))\n",
    "ax.hist(dense_regions[:, 3], bins = 50)\n",
    "ax.set_xlabel('RNas per Tx')\n",
    "ax.set_ylabel('counts')\n",
    "ax.set_xticks(range(0, max(dense_regions[:, 3] + 1), 2));\n",
    "\n",
    "plt.savefig('H:/Code/smFISH/data/Chip_7_EFG1_HWP1_24HR_ACTUAL/Plots/EFG1TXs_histplot.svg')"
   ]
  },
  {
   "cell_type": "code",
   "execution_count": 10,
   "id": "43826d23",
   "metadata": {},
   "outputs": [
    {
     "name": "stdout",
     "output_type": "stream",
     "text": [
      "range(0, 21, 2)\n"
     ]
    }
   ],
   "source": [
    "print(range(0, max(dense_regions[:, 3] + 1), 2))"
   ]
  },
  {
   "cell_type": "markdown",
   "id": "a0fc7a09",
   "metadata": {},
   "source": [
    "***"
   ]
  },
  {
   "cell_type": "code",
   "execution_count": 18,
   "id": "cb23908a",
   "metadata": {},
   "outputs": [
    {
     "name": "stderr",
     "output_type": "stream",
     "text": [
      "C:\\Users\\roana\\AppData\\Local\\Temp\\ipykernel_14884\\1680143120.py:7: UserWarning: ../data/Chip_7/Spots decomposition/_rf_spot.tif is a low contrast image\n",
      "  io.imsave(f\"{save_path}_rf_spot.tif\", dense_regions)\n"
     ]
    }
   ],
   "source": [
    "#ADDED MYSELF FROM CODE BELOW\n",
    "root_dir = '../data/Chip_7'\n",
    "save_path = f\"{root_dir}/Spots decomposition/\"\n",
    "\n",
    "np.save(f\"{save_path}.npy\", spots)\n",
    "np.save(f\"{save_path}_dd_regions.npy\", dense_regions)\n",
    "io.imsave(f\"{save_path}_rf_spot.tif\", dense_regions)"
   ]
  },
  {
   "cell_type": "markdown",
   "id": "84557cf6",
   "metadata": {},
   "source": [
    "## 3.2 - Batch decomposition"
   ]
  },
  {
   "cell_type": "code",
   "execution_count": 15,
   "id": "fa3bbd7c",
   "metadata": {},
   "outputs": [],
   "source": [
    "# paths\n",
    "root_dir = '../data/Chip_9_24hr_CLB2_HWP1'\n",
    "\n",
    "#parameters - adjust if necessary\n",
    "scale = (200, 65, 65)\n",
    "spot_radius = (1000, 170, 170)\n",
    "sigma=(0.75, 2.3, 2.3)\n",
    "patch_size = (200, 200)"
   ]
  },
  {
   "cell_type": "code",
   "execution_count": 16,
   "id": "5b1c0330",
   "metadata": {
    "scrolled": true
   },
   "outputs": [
    {
     "name": "stdout",
     "output_type": "stream",
     "text": [
      "I found the following experiments:\n",
      "dict_keys(['CET111_CLB2Q670_SC', 'CET111_HWP1Q610_SC'])\n",
      "select applicable experiments\n"
     ]
    }
   ],
   "source": [
    "experiments = group_experiments(root_dir)\n",
    "\n",
    "print('I found the following experiments:')\n",
    "print(experiments.keys())\n",
    "print('select applicable experiments')"
   ]
  },
  {
   "cell_type": "code",
   "execution_count": 17,
   "id": "8176a229",
   "metadata": {},
   "outputs": [
    {
     "name": "stdout",
     "output_type": "stream",
     "text": [
      "CET111_HWP1Q610_SC\n",
      "processing identifier='CET111_HWP1Q610_SC', replicate=3\n"
     ]
    },
    {
     "name": "stderr",
     "output_type": "stream",
     "text": [
      "C:\\Users\\roana\\AppData\\Local\\Temp\\ipykernel_16900\\2408671192.py:49: UserWarning: ../data/Chip_9_24hr_CLB2_HWP1/Spots decomposition/CET111_HWP1Q610_SC_CY3_03_spots_thr2_rf_spot.tif is a low contrast image\n",
      "  io.imsave(f\"{save_path}_rf_spot.tif\", dense_regions)\n"
     ]
    },
    {
     "name": "stdout",
     "output_type": "stream",
     "text": [
      "done\n",
      "----------\n",
      "processing identifier='CET111_HWP1Q610_SC', replicate=5\n"
     ]
    },
    {
     "name": "stderr",
     "output_type": "stream",
     "text": [
      "C:\\Users\\roana\\AppData\\Local\\Temp\\ipykernel_16900\\2408671192.py:49: UserWarning: ../data/Chip_9_24hr_CLB2_HWP1/Spots decomposition/CET111_HWP1Q610_SC_CY3_05_spots_thr2_rf_spot.tif is a low contrast image\n",
      "  io.imsave(f\"{save_path}_rf_spot.tif\", dense_regions)\n"
     ]
    },
    {
     "name": "stdout",
     "output_type": "stream",
     "text": [
      "done\n",
      "----------\n",
      "processing identifier='CET111_HWP1Q610_SC', replicate=6\n"
     ]
    },
    {
     "name": "stderr",
     "output_type": "stream",
     "text": [
      "C:\\Users\\roana\\AppData\\Local\\Temp\\ipykernel_16900\\2408671192.py:49: UserWarning: ../data/Chip_9_24hr_CLB2_HWP1/Spots decomposition/CET111_HWP1Q610_SC_CY3_06_spots_thr2_rf_spot.tif is a low contrast image\n",
      "  io.imsave(f\"{save_path}_rf_spot.tif\", dense_regions)\n"
     ]
    },
    {
     "name": "stdout",
     "output_type": "stream",
     "text": [
      "done\n",
      "----------\n",
      "processing identifier='CET111_HWP1Q610_SC', replicate=7\n",
      "done\n",
      "----------\n"
     ]
    },
    {
     "name": "stderr",
     "output_type": "stream",
     "text": [
      "C:\\Users\\roana\\AppData\\Local\\Temp\\ipykernel_16900\\2408671192.py:49: UserWarning: ../data/Chip_9_24hr_CLB2_HWP1/Spots decomposition/CET111_HWP1Q610_SC_CY3_07_spots_thr2_rf_spot.tif is a low contrast image\n",
      "  io.imsave(f\"{save_path}_rf_spot.tif\", dense_regions)\n"
     ]
    }
   ],
   "source": [
    "current_experiment = \"CET111_HWP1Q610_SC\"\n",
    "experiments_to_process = [current_experiment]\n",
    "print(current_experiment)\n",
    "if \"HWP1\" in current_experiment:\n",
    "    fluorophore = \"CY3\"\n",
    "elif \"CLB2\" in current_experiment:\n",
    "    fluorophore = \"CY5\"\n",
    "elif \"EFG1\" in current_experiment:\n",
    "    fluorophore = \"CY5\"\n",
    "else:\n",
    "    print(\"Couldnt establish fluorophore\")\n",
    "\n",
    "\n",
    "\n",
    "\n",
    "for identifier in experiments_to_process:\n",
    "    replicates = experiments[identifier]\n",
    "    \n",
    "    for replicate, paths, in replicates.items():\n",
    "        print(f'processing {identifier=}, {replicate=}')\n",
    "        data = load_data(paths)\n",
    "        spot_file_name = Path(paths['spots']).stem\n",
    "        save_path = f\"{root_dir}/Spots decomposition/{spot_file_name}\"\n",
    "        \n",
    "        process = True\n",
    "        # check if all files required for this step have been loaded\n",
    "        for entry in ['spots', fluorophore]:\n",
    "            if data.get(entry) is None:\n",
    "                print(f'{identifier=}, {replicate=}, {entry=} could not be found')\n",
    "                print(f'skipping {identifier=}, {replicate=}!')\n",
    "                process=False\n",
    "        \n",
    "        if process:\n",
    "            RNAs = data.get(fluorophore)            \n",
    "            spot_data = data.get('spots')\n",
    "            \n",
    "            RNAs_filt=remove_background_gaussian(RNAs, sigma=sigma)\n",
    "            \n",
    "            spots, dense_regions, reference_spots = decompose_dense(\n",
    "                RNAs_filt,\n",
    "                spot_data,\n",
    "                voxel_size=scale,\n",
    "                spot_radius=spot_radius,\n",
    "                alpha=0.5,beta=2,gamma=1\n",
    "            )\n",
    "            \n",
    "            np.save(f\"{save_path}.npy\", spots)\n",
    "            np.save(f\"{save_path}_dd_regions.npy\", dense_regions)\n",
    "            io.imsave(f\"{save_path}_rf_spot.tif\", dense_regions)\n",
    "            \n",
    "            print('done')\n",
    "            \n",
    "        print(10*'-')"
   ]
  }
 ],
 "metadata": {
  "kernelspec": {
   "display_name": "Python 3 (ipykernel)",
   "language": "python",
   "name": "python3"
  },
  "language_info": {
   "codemirror_mode": {
    "name": "ipython",
    "version": 3
   },
   "file_extension": ".py",
   "mimetype": "text/x-python",
   "name": "python",
   "nbconvert_exporter": "python",
   "pygments_lexer": "ipython3",
   "version": "3.11.5"
  }
 },
 "nbformat": 4,
 "nbformat_minor": 5
}
